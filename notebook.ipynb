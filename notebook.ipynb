{
 "cells": [
  {
   "cell_type": "code",
   "execution_count": 3,
   "id": "6c98ff5a-777d-4858-a6ec-ae105102a69b",
   "metadata": {},
   "outputs": [],
   "source": [
    "import easyocr\n",
    "import cv2\n",
    "from matplotlib import pyplot as plt\n",
    "import numpy as np"
   ]
  },
  {
   "cell_type": "code",
   "execution_count": 16,
   "id": "71368061-c2b6-4a3c-8fdb-e0da6abd085d",
   "metadata": {},
   "outputs": [],
   "source": [
    "# def draw_results(image_path, results):\n",
    "#     # Load the image\n",
    "#     img = cv2.imread(image_path)\n",
    "\n",
    "#     spacer = 100\n",
    "#     font = cv2.FONT_HERSHEY_SIMPLEX\n",
    "\n",
    "#     for detection in results: \n",
    "#         top_left = tuple(map(int, detection[0][0]))\n",
    "#         bottom_right = tuple(map(int, detection[0][2]))\n",
    "#         text = detection[1]\n",
    "\n",
    "#         # Draw rectangle around detected text\n",
    "#         img = cv2.rectangle(img, top_left, bottom_right, (0, 255, 0), 3)\n",
    "\n",
    "#         # Calculate width and height of the text to be added\n",
    "#         text_width, text_height = cv2.getTextSize(text, font, 0.5, 2)[0]\n",
    "\n",
    "#         # Check if text width is smaller than the bounding box's width. If yes, add it inside.\n",
    "#         if text_width < (bottom_right[0] - top_left[0]):\n",
    "#             # Place text at the center of the bounding box\n",
    "#             text_origin = (top_left[0], top_left[1] + int((bottom_right[1] - top_left[1] + text_height) / 2))\n",
    "#             img = cv2.putText(img, text, text_origin, font, 0.5, (255, 0, 0), 2, cv2.LINE_AA)\n",
    "#         else:\n",
    "#             # If the text doesn't fit in its bounding box, then add it to the left side\n",
    "#             img = cv2.putText(img, text, (20, spacer), font, 0.5, (0, 255, 0), 2, cv2.LINE_AA)\n",
    "#             spacer += 15  # Only increase spacer if we added text to the left side\n",
    "    \n",
    "#     # Display the image\n",
    "#     plt.imshow(cv2.cvtColor(img, cv2.COLOR_BGR2RGB))  # Convert from BGR to RGB\n",
    "#     plt.show()\n"
   ]
  },
  {
   "cell_type": "code",
   "execution_count": 30,
   "id": "b8eb0de3-2c5c-419b-a51e-5e2b498dda55",
   "metadata": {},
   "outputs": [],
   "source": [
    "def draw_results(image_path, results):\n",
    "    # Load the image\n",
    "    img = cv2.imread(image_path)\n",
    "\n",
    "    font = cv2.FONT_HERSHEY_SIMPLEX\n",
    "\n",
    "    for detection in results: \n",
    "        coordinates = detection[0]\n",
    "        top_left = tuple(map(int, coordinates[0]))\n",
    "        bottom_right = tuple(map(int, coordinates[2]))\n",
    "        text = detection[1]\n",
    "        confidence = detection[2]\n",
    "\n",
    "        # Draw rectangle around detected text\n",
    "        img = cv2.rectangle(img, top_left, bottom_right, (0, 255, 0), 3)\n",
    "        \n",
    "        # Print the detected text, its confidence, and coordinates to the console\n",
    "        print(f\"Text: {text}\")\n",
    "        print(f\"Coordinates: {coordinates}\")\n",
    "        print(f\"Confidence: {confidence * 100:.2f}%\")\n",
    "        print(\"--------------\")\n",
    "    \n",
    "    # Display the image with bounding boxes\n",
    "    plt.imshow(cv2.cvtColor(img, cv2.COLOR_BGR2RGB))  # Convert from BGR to RGB\n",
    "    plt.show()\n"
   ]
  },
  {
   "cell_type": "code",
   "execution_count": 24,
   "id": "3869dd60-5fdb-4ead-b909-c242b7d147c6",
   "metadata": {},
   "outputs": [
    {
     "name": "stdout",
     "output_type": "stream",
     "text": [
      "butterflies.jpg\n",
      "copy-text.png\n",
      "images.jpg\n",
      "xJida.png\n"
     ]
    }
   ],
   "source": [
    "import os\n",
    "\n",
    "# Get the current directory\n",
    "current_directory = os.getcwd()\n",
    "\n",
    "# List all files in the current directory\n",
    "all_files = os.listdir(current_directory)\n",
    "\n",
    "# Filter for image files\n",
    "image_files = [file for file in all_files if file.endswith(('.jpg', '.png', '.jpeg', '.bmp', '.tiff'))]\n",
    "\n",
    "# Print each image file name\n",
    "for image_file in image_files:\n",
    "    print(image_file)\n"
   ]
  },
  {
   "cell_type": "code",
   "execution_count": 34,
   "id": "566da21a-f572-4f49-964f-aac64ad7634f",
   "metadata": {},
   "outputs": [
    {
     "name": "stderr",
     "output_type": "stream",
     "text": [
      "Neither CUDA nor MPS are available - defaulting to CPU. Note: This module is much faster with a GPU.\n"
     ]
    },
    {
     "name": "stdout",
     "output_type": "stream",
     "text": [
      "Text: TEXT\n",
      "Coordinates: [[95, 54], [648, 54], [648, 252], [95, 252]]\n",
      "Confidence: 99.92%\n",
      "--------------\n"
     ]
    },
    {
     "data": {
      "image/png": "[encoded data removed]",
      "text/plain": [
       "<Figure size 640x480 with 1 Axes>"
      ]
     },
     "metadata": {},
     "output_type": "display_data"
    }
   ],
   "source": [
    "# Initialize the EasyOCR Reader\n",
    "reader = easyocr.Reader(['en'])\n",
    "\n",
    "# Define the image path and read the text from the image\n",
    "IMAGE_PATH = 'xJida.png'\n",
    "result = reader.readtext(IMAGE_PATH)\n",
    "\n",
    "# Display the results\n",
    "draw_results(IMAGE_PATH, result)"
   ]
  }
 ],
 "metadata": {
  "kernelspec": {
   "display_name": "Python 3 (ipykernel)",
   "language": "python",
   "name": "python3"
  },
  "language_info": {
   "codemirror_mode": {
    "name": "ipython",
    "version": 3
   },
   "file_extension": ".py",
   "mimetype": "text/x-python",
   "name": "python",
   "nbconvert_exporter": "python",
   "pygments_lexer": "ipython3",
   "version": "3.11.0"
  }
 },
 "nbformat": 4,
 "nbformat_minor": 5
}
